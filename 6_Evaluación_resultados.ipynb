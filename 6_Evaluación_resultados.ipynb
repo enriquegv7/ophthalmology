{
 "cells": [
  {
   "cell_type": "code",
   "execution_count": 1,
   "metadata": {},
   "outputs": [
    {
     "name": "stdout",
     "output_type": "stream",
     "text": [
      "(37, 10)\n",
      "(37,)\n"
     ]
    }
   ],
   "source": [
    "# Cargar los datos del test\n",
    "import numpy as np\n",
    "test = np.load('../final_features/test.npy')\n",
    "\n",
    "X_test = test[:,:-1]\n",
    "y_test = test[:, -1]\n",
    "\n",
    "print(np.shape(X_test))\n",
    "print(np.shape(y_test))"
   ]
  },
  {
   "cell_type": "code",
   "execution_count": 4,
   "metadata": {},
   "outputs": [
    {
     "name": "stdout",
     "output_type": "stream",
     "text": [
      "                LOGR     MLP\n",
      "------------  ------  ------\n",
      "Precision     0.8421  0.8889\n",
      "Sensibilidad  1       1\n",
      "F1-Score      0.9143  0.9412\n",
      "Accuracy      0.9189  0.9459\n",
      "AUC           0.9286  0.9524\n",
      "[[19  2]\n",
      " [ 0 16]]\n"
     ]
    }
   ],
   "source": [
    "# Cargamos los modelos entrenados\n",
    "import pickle\n",
    "with open('../models/LOGR.pickle', 'rb') as fr:\n",
    "    LOGR = pickle.load(fr)\n",
    "with open('../models/MLP.pickle', 'rb') as fr:\n",
    "    MLP = pickle.load(fr)\n",
    "\n",
    "# Extraer las predicciones\n",
    "y_pred_LOGR = LOGR.predict(X_test)\n",
    "y_pred_MLP = MLP.predict(X_test)\n",
    "\n",
    "y_pred = [y_pred_LOGR, y_pred_MLP]\n",
    "\n",
    "# Evaluar diversas métricas de clasificación\n",
    "from sklearn import metrics\n",
    "\n",
    "from tabulate import tabulate\n",
    "headers = ['', 'LOGR', 'MLP']\n",
    "P, S, FS, ACC, AUC = [['Precision'], ['Sensibilidad'], ['F1-Score'], ['Accuracy'], ['AUC']]\n",
    "\n",
    "for i in range(0,2):\n",
    "    P.append(np.round(metrics.precision_score(y_test, y_pred[i]),4))\n",
    "    S.append(np.round(metrics.recall_score(y_test, y_pred[i]),4))\n",
    "    FS.append(np.round(metrics.f1_score(y_test, y_pred[i]), 4))\n",
    "    ACC.append(np.round(metrics.accuracy_score(y_test, y_pred[i]), 4))\n",
    "    AUC.append(np.round(metrics.roc_auc_score(y_test, y_pred[i]), 4))\n",
    "\n",
    "my_data = [tuple(P), tuple(S), tuple(FS), tuple(ACC), tuple(AUC)]\n",
    "print(tabulate(my_data, headers=headers))\n",
    "\n",
    "# Confusion matrix\n",
    "print(metrics.confusion_matrix(y_test, y_pred[1]))\n"
   ]
  }
 ],
 "metadata": {
  "kernelspec": {
   "display_name": "Python 3",
   "language": "python",
   "name": "python3"
  },
  "language_info": {
   "codemirror_mode": {
    "name": "ipython",
    "version": 3
   },
   "file_extension": ".py",
   "mimetype": "text/x-python",
   "name": "python",
   "nbconvert_exporter": "python",
   "pygments_lexer": "ipython3",
   "version": "3.8.5"
  }
 },
 "nbformat": 4,
 "nbformat_minor": 4
}
