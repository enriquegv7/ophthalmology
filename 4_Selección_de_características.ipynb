{
 "cells": [
  {
   "cell_type": "code",
   "execution_count": 67,
   "metadata": {},
   "outputs": [
    {
     "name": "stdout",
     "output_type": "stream",
     "text": [
      "(152, 23)\n"
     ]
    }
   ],
   "source": [
    "# Cargar los datos de entrenamiento\n",
    "import numpy as np\n",
    "train_matrix = np.load('../features/matriz_datos_train.npy')\n",
    "\n",
    "# Seleccionar las features y target\n",
    "X_train = train_matrix[:,:-1]\n",
    "y_train = train_matrix[:, -1]\n",
    "\n",
    "print(np.shape(X_train))"
   ]
  },
  {
   "cell_type": "code",
   "execution_count": 68,
   "metadata": {
    "scrolled": true
   },
   "outputs": [],
   "source": [
    "# Estandarización de los datos de entrenamiento\n",
    "from sklearn.preprocessing import StandardScaler\n",
    "estandarizador = StandardScaler()\n",
    "estandarizador.fit(X_train)\n",
    "mu = estandarizador.mean_\n",
    "sigma = np.sqrt(estandarizador.var_)\n",
    "X_train = estandarizador.transform(X_train)\n",
    "\n",
    "# print(X_train[0])\n",
    "# print(X_train_new[0])"
   ]
  },
  {
   "cell_type": "code",
   "execution_count": 69,
   "metadata": {},
   "outputs": [
    {
     "name": "stdout",
     "output_type": "stream",
     "text": [
      "0: no normal  ---- 1: sí normal:  [1. 1. 0. 1. 0. 0. 1. 1. 1. 1. 0. 1. 1. 1. 1. 1. 1. 1. 1. 1. 1. 1. 1.]\n"
     ]
    }
   ],
   "source": [
    "# SELECCIÓN DE LOS ATRIBUTOS (CARACTERÍSTICAS)\n",
    "# Estudiar si las variables siguen una distribución normal de media 0 y desviación típica 1 --> N(0,1)\n",
    "from scipy.stats import kstest # Prueba de Kolmogorov-Smirnov\n",
    "\n",
    "alpha = 0.01 # nivel de confianza del 99%\n",
    "h_norm = np.zeros(X_train.shape[1])\n",
    "for i in range(0, X_train.shape[1]):\n",
    "    _, pvalue = kstest(X_train[:, i], 'norm')\n",
    "    \n",
    "    # Contraste de hipótesis\n",
    "    if pvalue<=alpha:\n",
    "        h_norm[i] = 0 # Los datos NO siguen una distribución normal N(0,1)\n",
    "    else:\n",
    "        h_norm[i] = 1 # Los datos SÍ siguen una distribución normal N(0,1)\n",
    "\n",
    "print('0: no normal  ---- 1: sí normal: ', h_norm)"
   ]
  },
  {
   "cell_type": "code",
   "execution_count": 70,
   "metadata": {},
   "outputs": [],
   "source": [
    "def draw_boxplot(data1, data2, ticks):\n",
    "    import matplotlib.pyplot as plt\n",
    "    \n",
    "    bpl = plt.boxplot(data1, positions=np.array(range(np.shape(data1)[1]))*2.0-0.4, sym='', widths=0.5, \\\n",
    "                     boxprops=dict(color='red'),\n",
    "                     capprops=dict(color='red'),\n",
    "                     whiskerprops=dict(color='red'),\n",
    "                     medianprops=dict(color='red'))\n",
    "    \n",
    "    bpl = plt.boxplot(data2, positions=np.array(range(np.shape(data2)[1]))*2.0+0.4, sym='', widths=0.5, \\\n",
    "                     boxprops=dict(color='blue'),\n",
    "                     capprops=dict(color='blue'),\n",
    "                     whiskerprops=dict(color='blue'),\n",
    "                     medianprops=dict(color='blue'))\n",
    "    \n",
    "    plt.plot([], c='#D7191C', label='Glaucoma')\n",
    "    plt.plot([], c='#2C7BB6', label='Healthy')\n",
    "    plt.legend()\n",
    "    \n",
    "    plt.xticks(range(0, len(ticks)*2, 2), ticks)\n",
    "    plt.xlim(-2, len(ticks)*2)\n",
    "    plt.grid(True)\n",
    "    plt.title('Características')\n",
    "    plt.show()\n",
    "    "
   ]
  },
  {
   "cell_type": "code",
   "execution_count": 72,
   "metadata": {},
   "outputs": [
    {
     "name": "stdout",
     "output_type": "stream",
     "text": [
      "0: no discrimna, 1: sí discrimina [1. 1. 1. 1. 1. 1. 1. 0. 0. 1. 1. 1. 0. 1. 0. 1. 1. 1. 1. 1. 1. 1. 0.]\n",
      "(152, 18)\n",
      "(18,)\n",
      "(18,)\n"
     ]
    },
    {
     "data": {
      "image/png": "[encoded data removed]",
      "text/plain": [
       "<Figure size 432x288 with 1 Axes>"
      ]
     },
     "metadata": {
      "needs_background": "light"
     },
     "output_type": "display_data"
    },
    {
     "name": "stdout",
     "output_type": "stream",
     "text": [
      "Características discriminatorias:  ['media' 'mediana' 'std' 'asim' 'curtosis' 'min' 'max' 'homo' 'ASM' 'E'\n",
      " 'LBP1' 'LBP3' 'LBP4' 'LBP5' 'LBP6' 'LBP7' 'LBP8' 'LBP9']\n",
      "Características NO discriminatorias:  ['COR' 'LBP10' 'LBP2' 'con' 'dis']\n"
     ]
    }
   ],
   "source": [
    "# Estudiar la capacidad discriminativa de los atributos en función de su distribución\n",
    "from scipy.stats import ttest_ind, mannwhitneyu\n",
    "\n",
    "glaucoma_data = X_train[y_train==1]\n",
    "healthy_data = X_train[y_train==0]\n",
    "\n",
    "h = np.zeros(X_train.shape[1])\n",
    "h_disc = np.zeros(X_train.shape[1])\n",
    "\n",
    "for i in range(0, X_train.shape[1]):\n",
    "    if h_norm[i] == 0: # no es normal --> comparación de medianas (mannwhitneyu)\n",
    "        _, pvalue = mannwhitneyu(glaucoma_data[:,i], healthy_data[:,i])\n",
    "    else: # sí es normal --> comparación de medias (ttest_ind)\n",
    "        _, pvalue = ttest_ind(glaucoma_data[:,i], healthy_data[:,i])\n",
    "    \n",
    "    # contraste de hipótesis, estudiar el poder discriminatorio de las características\n",
    "    # H0: independencia entre la característica y la clase\n",
    "    if pvalue<=alpha:\n",
    "        h_disc[i] = 1 # Se rechaza la H0 y, por tanto, asumimos la dependencia entre la característica y la clase\n",
    "    else:\n",
    "        h_disc[i] = 0 # No hay evidencia para rechazar la H0 y, por tanto, asumimos que la caract. y la clase son independientes\n",
    "\n",
    "print('0: no discrimna, 1: sí discrimina', h_disc)\n",
    "\n",
    "# Eliminando las variables que no son discriminatorias. \n",
    "id_no_disc = np.where(h_disc==0)\n",
    "X_train_disc = np.delete(X_train, id_no_disc[0], axis=1)\n",
    "mu_disc = np.delete(mu, id_no_disc[0])\n",
    "sigma_disc = np.delete(sigma, id_no_disc[0])\n",
    "\n",
    "print(np.shape(X_train_disc))\n",
    "print(np.shape(mu_disc))\n",
    "print(np.shape(sigma_disc))\n",
    "\n",
    "# Visualización\n",
    "original_ticks = ['media', 'mediana', 'std', 'asim', 'curtosis', 'min', 'max', 'con', 'dis', 'homo', 'ASM', 'E', 'COR', \n",
    "         'LBP1', 'LBP2', 'LBP3', 'LBP4', 'LBP5', 'LBP6', 'LBP7', 'LBP8', 'LBP9', 'LBP10']\n",
    "draw_boxplot(glaucoma_data[:,:10], healthy_data[:,:10], original_ticks[:10])\n",
    "\n",
    "ticks = np.delete(original_ticks, id_no_disc[0])\n",
    "print('Características discriminatorias: ', ticks)\n",
    "print('Características NO discriminatorias: ', np.setdiff1d(original_ticks, ticks))"
   ]
  },
  {
   "cell_type": "code",
   "execution_count": 73,
   "metadata": {},
   "outputs": [
    {
     "data": {
      "image/png": "[encoded data removed]",
      "text/plain": [
       "<Figure size 432x288 with 1 Axes>"
      ]
     },
     "metadata": {
      "needs_background": "light"
     },
     "output_type": "display_data"
    },
    {
     "name": "stdout",
     "output_type": "stream",
     "text": [
      "[ 1  6  9 12 13 14 15 17]\n",
      "Características correladas:  ['mediana' 'max' 'E' 'LBP4' 'LBP5' 'LBP6' 'LBP7' 'LBP9']\n",
      "Características NO correladas:  ['ASM' 'LBP1' 'LBP3' 'LBP8' 'asim' 'curtosis' 'homo' 'media' 'min' 'std']\n",
      "(152, 10)\n"
     ]
    }
   ],
   "source": [
    "# Realizar un análisis de CORRELACIÓN para ver la dependencia entre pares de variables\n",
    "\n",
    "R = np.corrcoef(X_train_disc.transpose())\n",
    "\n",
    "import matplotlib.pyplot as plt\n",
    "plt.imshow(R, cmap='jet')\n",
    "plt.show()\n",
    "\n",
    "th_cor = 0.9\n",
    "\n",
    "idx = abs(R)>th_cor\n",
    "mat_tri_sup = np.triu(idx,1)\n",
    "# print(mat_tri_sup.astype('uint8'))\n",
    "\n",
    "row, col = np.where(mat_tri_sup==True)\n",
    "id_corr = np.unique(col)\n",
    "print(id_corr)\n",
    "\n",
    "print('Características correladas: ', ticks[id_corr])\n",
    "print('Características NO correladas: ', np.setdiff1d(ticks, ticks[id_corr]))\n",
    "\n",
    "# Eliminamos las variables correlacionadas\n",
    "X_final = np.delete(X_train_disc, id_corr, axis=1)\n",
    "mu_final = np.delete(mu_disc, id_corr)\n",
    "sigma_final = np.delete(sigma_disc, id_corr)\n",
    "ticks = np.delete(ticks, id_corr)\n",
    "\n",
    "print(np.shape(X_final))"
   ]
  },
  {
   "cell_type": "code",
   "execution_count": 80,
   "metadata": {},
   "outputs": [],
   "source": [
    "# Guardado de matriz final de características\n",
    "import os\n",
    "if not os.path.exists('../final_features'):\n",
    "    os.mkdir('../final_features')\n",
    "\n",
    "y_train_exp = np.expand_dims(y_train, axis=1)\n",
    "train_matrix = np.concatenate((X_final, y_train_exp), axis=1)\n",
    "np.save('../final_features/train.npy', train_matrix)"
   ]
  },
  {
   "cell_type": "code",
   "execution_count": 83,
   "metadata": {},
   "outputs": [
    {
     "name": "stdout",
     "output_type": "stream",
     "text": [
      "(37, 10)\n"
     ]
    }
   ],
   "source": [
    "# Repetir el proceso para la selección de las características del test\n",
    "\n",
    "test_matrix = np.load('../features/matriz_datos_test.npy')\n",
    "\n",
    "# Seleccionar las características y la clase\n",
    "X_test = test_matrix[:,:-1]\n",
    "y_test = test_matrix[:, -1]\n",
    "\n",
    "# Eliminar las características que no son discriminatorias durante entrenamiento\n",
    "# id_no_disc\n",
    "X_test_disc = np.delete(X_test, id_no_disc[0], axis=1)\n",
    "\n",
    "# Eliminar las características correladas durante entrenamiento\n",
    "# id_corr\n",
    "X_test_final = np.delete(X_test_disc, id_corr, axis=1)\n",
    "\n",
    "# Estandarización de las características del test en base a la mu y la sigma del entrenamiento \n",
    "X_test_final = (X_test_final-mu_final)/sigma_final\n",
    "\n",
    "# Guardado de la matriz de datos de test\n",
    "y_test_exp = np.expand_dims(y_test, axis=1)\n",
    "test_matrix = np.concatenate((X_test_final, y_test_exp), axis=1)\n",
    "\n",
    "np.save('../final_features/test.npy', test_matrix)\n",
    "\n",
    "print(np.shape(X_test_final))"
   ]
  }
 ],
 "metadata": {
  "kernelspec": {
   "display_name": "Python 3",
   "language": "python",
   "name": "python3"
  },
  "language_info": {
   "codemirror_mode": {
    "name": "ipython",
    "version": 3
   },
   "file_extension": ".py",
   "mimetype": "text/x-python",
   "name": "python",
   "nbconvert_exporter": "python",
   "pygments_lexer": "ipython3",
   "version": "3.8.5"
  }
 },
 "nbformat": 4,
 "nbformat_minor": 4
}
