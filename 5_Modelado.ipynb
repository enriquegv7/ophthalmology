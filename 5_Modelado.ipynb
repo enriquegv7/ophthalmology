{
 "cells": [
  {
   "cell_type": "code",
   "execution_count": 1,
   "metadata": {},
   "outputs": [
    {
     "name": "stdout",
     "output_type": "stream",
     "text": [
      "(152, 10)\n",
      "(152,)\n"
     ]
    }
   ],
   "source": [
    "# Cargar los datos de entrenamiento\n",
    "import numpy as np\n",
    "train = np.load('../final_features/train.npy')\n",
    "\n",
    "X_train = train[:,:-1]\n",
    "y_train = train[:, -1]\n",
    "\n",
    "print(np.shape(X_train))\n",
    "print(np.shape(y_train))"
   ]
  },
  {
   "cell_type": "code",
   "execution_count": 19,
   "metadata": {},
   "outputs": [
    {
     "name": "stdout",
     "output_type": "stream",
     "text": [
      "LOGR:  Accuracy:  0.8880 +/- 0.0174\n",
      "MLP:  Accuracy:  0.9146 +/- 0.0335\n"
     ]
    }
   ],
   "source": [
    "# Definir los modelos de clasificación\n",
    "from sklearn.linear_model import LogisticRegression\n",
    "from sklearn.neural_network import MLPClassifier\n",
    "\n",
    "algoritmos = {'LOGR': LogisticRegression(penalty='l2', solver='saga', max_iter=1000, random_state=42),\n",
    "             'MLP': MLPClassifier(hidden_layer_sizes=[8,4], activation='relu', solver='sgd', batch_size='auto',\n",
    "                                 learning_rate='adaptive', learning_rate_init=0.01, max_iter=1000, random_state=42)}\n",
    "\n",
    "# Cross-validation interno en k=5 bolsas\n",
    "from sklearn.model_selection import cross_val_score, KFold\n",
    "\n",
    "results={}\n",
    "for nombre, alg in algoritmos.items():\n",
    "    results[nombre] = cross_val_score(alg, X_train, y_train, cv=KFold(n_splits=5, shuffle=True, random_state=42))\n",
    "    print(nombre + ':  Accuracy:  %0.4f +/- %0.4f' % (results[nombre].mean(), results[nombre].std()))"
   ]
  },
  {
   "cell_type": "code",
   "execution_count": 22,
   "metadata": {},
   "outputs": [
    {
     "name": "stdout",
     "output_type": "stream",
     "text": [
      "Mínimo error cometido:  0.1579953781086285\n",
      "Número de iteraciones llevadas a cabo:  600\n"
     ]
    }
   ],
   "source": [
    "# Definimos el modelo definitivo.\n",
    "algoritmos = {'LOGR': LogisticRegression(penalty='l2', solver='saga', max_iter=1000, random_state=42),\n",
    "             'MLP': MLPClassifier(hidden_layer_sizes=[8,4], activation='relu', solver='sgd', batch_size='auto',\n",
    "                                 learning_rate='adaptive', learning_rate_init=0.01, max_iter=1000, random_state=42)}\n",
    "\n",
    "LOGR_definitivo = LOGR.fit(X_train, y_train)\n",
    "MLP_definitivo = MLP.fit(X_train, y_train)\n",
    "\n",
    "# Atributos se obtienen durante el entrenamiento\n",
    "print('Mínimo error cometido: ', MLP_definitivo.best_loss_)\n",
    "print('Número de iteraciones llevadas a cabo: ', MLP_definitivo.n_iter_)"
   ]
  },
  {
   "cell_type": "code",
   "execution_count": 24,
   "metadata": {},
   "outputs": [],
   "source": [
    "# Guardar modelos\n",
    "import os\n",
    "if not os.path.exists('../models'):\n",
    "    os.mkdir('../models')\n",
    "    \n",
    "import pickle\n",
    "with open('../models/LOGR.pickle', 'wb') as fw:\n",
    "    pickle.dump(LOGR_definitivo, fw)\n",
    "with open('../models/MLP.pickle', 'wb') as fw:\n",
    "    pickle.dump(MLP_definitivo, fw)"
   ]
  }
 ],
 "metadata": {
  "kernelspec": {
   "display_name": "Python 3",
   "language": "python",
   "name": "python3"
  },
  "language_info": {
   "codemirror_mode": {
    "name": "ipython",
    "version": 3
   },
   "file_extension": ".py",
   "mimetype": "text/x-python",
   "name": "python",
   "nbconvert_exporter": "python",
   "pygments_lexer": "ipython3",
   "version": "3.8.5"
  }
 },
 "nbformat": 4,
 "nbformat_minor": 4
}
