{
 "cells": [
  {
   "cell_type": "code",
   "execution_count": 1,
   "metadata": {},
   "outputs": [
    {
     "name": "stdout",
     "output_type": "stream",
     "text": [
      "                             ID     Class\n",
      "0    OCTA1013661_19350130_1.png  Glaucoma\n",
      "1    OCTA1153367_19320227_2.png  Glaucoma\n",
      "2    OCTA1653454_19640601_2.png  Glaucoma\n",
      "3     OCTADB5052_19500115_2.png  Glaucoma\n",
      "4     OCTADB5551_19491106_1.png  Glaucoma\n",
      "..                          ...       ...\n",
      "184   OCTADB7376_19590206_1.png   Healthy\n",
      "185   OCTADB7376_19590206_2.png   Healthy\n",
      "186   OCTADB7377_19620916_2.png   Healthy\n",
      "187   OCTADB7398_19940401_1.png   Healthy\n",
      "188   OCTADB7398_19940401_2.png   Healthy\n",
      "\n",
      "[189 rows x 2 columns]\n"
     ]
    }
   ],
   "source": [
    "import pandas as pd\n",
    "import numpy as np\n",
    "\n",
    "#Leer la información del documento Excel original\n",
    "dataFrame = pd.read_csv('../Material/Database.csv', sep=';')\n",
    "print(dataFrame)"
   ]
  },
  {
   "cell_type": "code",
   "execution_count": 3,
   "metadata": {},
   "outputs": [
    {
     "name": "stdout",
     "output_type": "stream",
     "text": [
      " --- TRAIN --- \n",
      "Glaucoma:  77 \n",
      "Healthy:  75\n",
      " --- TEST --- \n",
      "Glaucoma:  16 \n",
      "Healthy:  21\n"
     ]
    }
   ],
   "source": [
    "# Partición externa de los datos\n",
    "from sklearn.model_selection import train_test_split, KFold\n",
    "\n",
    "# train, test = train_test_split(dataFrame, test_size=0.2, shuffle=True, random_state=42) # hold-out\n",
    "\n",
    "kf = KFold(n_splits=5, shuffle=True, random_state=42)\n",
    "bolsas = kf.split(dataFrame)\n",
    "\n",
    "for k, (train_fold, test_fold) in enumerate(bolsas):\n",
    "    train = dataFrame.iloc[train_fold]\n",
    "    test = dataFrame.iloc[test_fold]\n",
    "\n",
    "lab_train, ocur_train = np.unique(train.Class, return_counts=True)\n",
    "lab_test, ocur_test = np.unique(test.Class, return_counts=True)\n",
    "\n",
    "print(' --- TRAIN --- \\nGlaucoma: ', ocur_train[0], '\\nHealthy: ', ocur_train[1])\n",
    "print(' --- TEST --- \\nGlaucoma: ', ocur_test[0], '\\nHealthy: ', ocur_test[1])\n"
   ]
  },
  {
   "cell_type": "code",
   "execution_count": 4,
   "metadata": {},
   "outputs": [
    {
     "name": "stdout",
     "output_type": "stream",
     "text": [
      "                             ID     Class\n",
      "0    OCTA1013661_19350130_1.png  Glaucoma\n",
      "2    OCTA1653454_19640601_2.png  Glaucoma\n",
      "3     OCTADB5052_19500115_2.png  Glaucoma\n",
      "4     OCTADB5551_19491106_1.png  Glaucoma\n",
      "5     OCTADB6503_19290831_1.png  Glaucoma\n",
      "..                          ...       ...\n",
      "181  OCTA6593993_19660107_2.png   Healthy\n",
      "183   OCTADB5990_19431204_2.png   Healthy\n",
      "184   OCTADB7376_19590206_1.png   Healthy\n",
      "186   OCTADB7377_19620916_2.png   Healthy\n",
      "187   OCTADB7398_19940401_1.png   Healthy\n",
      "\n",
      "[152 rows x 2 columns]\n"
     ]
    }
   ],
   "source": [
    "print(train)"
   ]
  },
  {
   "cell_type": "code",
   "execution_count": 5,
   "metadata": {},
   "outputs": [
    {
     "name": "stdout",
     "output_type": "stream",
     "text": [
      "                             ID     Class\n",
      "131   OCTADB7477_19380124_2.png  Glaucoma\n",
      "83    OCTADB3311_19441225_2.png   Healthy\n",
      "94    OCTADB7382_19750616_1.png   Healthy\n",
      "114       OCTADB_19760911_1.png   Healthy\n",
      "22    OCTADB7386_19400420_2.png  Glaucoma\n",
      "..                          ...       ...\n",
      "0    OCTA1013661_19350130_1.png  Glaucoma\n",
      "33    OCTADB7414_19660407_2.png  Glaucoma\n",
      "25    OCTADB7399_19550917_2.png  Glaucoma\n",
      "137  OCTA3956619_19651213_2.png   Healthy\n",
      "61   OCTA1673572_19700825_1.png   Healthy\n",
      "\n",
      "[152 rows x 2 columns]\n"
     ]
    }
   ],
   "source": [
    "# Aleatorizar los dataframes\n",
    "train = train.sample(frac=1)\n",
    "test = test.sample(frac=1)\n",
    "\n",
    "print(train)"
   ]
  },
  {
   "cell_type": "code",
   "execution_count": 6,
   "metadata": {},
   "outputs": [],
   "source": [
    "# Guardado de los modelos\n",
    "import os\n",
    "if not os.path.exists('../partitions'):\n",
    "    os.mkdir('../partitions')\n",
    "\n",
    "train.to_csv('../partitions/train.csv', sep=';')\n",
    "test.to_csv('../partitions/test.csv', sep=';')"
   ]
  }
 ],
 "metadata": {
  "kernelspec": {
   "display_name": "Python 3",
   "language": "python",
   "name": "python3"
  },
  "language_info": {
   "codemirror_mode": {
    "name": "ipython",
    "version": 3
   },
   "file_extension": ".py",
   "mimetype": "text/x-python",
   "name": "python",
   "nbconvert_exporter": "python",
   "pygments_lexer": "ipython3",
   "version": "3.8.5"
  }
 },
 "nbformat": 4,
 "nbformat_minor": 4
}
